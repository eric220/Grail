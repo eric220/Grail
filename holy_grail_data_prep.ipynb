{
 "cells": [
  {
   "cell_type": "code",
   "execution_count": 1,
   "metadata": {},
   "outputs": [],
   "source": [
    "import matplotlib.pyplot as plt\n",
    "import seaborn as sn\n",
    "from sklearn.preprocessing import MinMaxScaler\n",
    "import pandas as pd\n",
    "import numpy as np\n",
    "import tensorflow as tf\n",
    "import random\n",
    "tfk = tf.keras\n",
    "tf.keras.backend.set_floatx(\"float64\")\n",
    "import tensorflow_probability as tfp\n",
    "tfd = tfp.distributions\n",
    "from sklearn.preprocessing import StandardScaler\n",
    "from sklearn.ensemble import IsolationForest\n",
    "%matplotlib inline"
   ]
  },
  {
   "cell_type": "code",
   "execution_count": 2,
   "metadata": {},
   "outputs": [],
   "source": [
    "color = 'lightblue'"
   ]
  },
  {
   "cell_type": "code",
   "execution_count": 74,
   "metadata": {},
   "outputs": [],
   "source": [
    "#takes in original dataframe and number, returns n(num) new df of random scaled, and random categorical \n",
    "def get_permutations(df, num):\n",
    "    t_lists = []\n",
    "    for r in range(0,num):\n",
    "        t_list = []\n",
    "        for c in df.columns.values:\n",
    "            if df['{}' .format(c)].dtype == 'object':\n",
    "                t_list.append(np.random.choice(df['{}' .format(c)].unique()))\n",
    "            else:\n",
    "                t_list.append(random.random())\n",
    "        t_lists.append(t_list)\n",
    "        \n",
    "    permutations_df = pd.DataFrame(t_lists)\n",
    "    permutations_df.columns = df.columns.values\n",
    "    permutations_df.drop('Target', axis = 1, inplace = True)\n",
    "    permutations_df = pd.get_dummies(permutations_df, columns=['Input1', 'Input2', 'Input3'])\n",
    "    return permutations_df"
   ]
  },
  {
   "cell_type": "code",
   "execution_count": 21,
   "metadata": {},
   "outputs": [],
   "source": [
    "df = pd.read_csv('task.csv')"
   ]
  },
  {
   "cell_type": "code",
   "execution_count": 22,
   "metadata": {},
   "outputs": [
    {
     "data": {
      "text/html": [
       "<div>\n",
       "<style scoped>\n",
       "    .dataframe tbody tr th:only-of-type {\n",
       "        vertical-align: middle;\n",
       "    }\n",
       "\n",
       "    .dataframe tbody tr th {\n",
       "        vertical-align: top;\n",
       "    }\n",
       "\n",
       "    .dataframe thead th {\n",
       "        text-align: right;\n",
       "    }\n",
       "</style>\n",
       "<table border=\"1\" class=\"dataframe\">\n",
       "  <thead>\n",
       "    <tr style=\"text-align: right;\">\n",
       "      <th></th>\n",
       "      <th>Input1</th>\n",
       "      <th>Input2</th>\n",
       "      <th>Input3</th>\n",
       "      <th>Input4</th>\n",
       "      <th>Input5</th>\n",
       "      <th>Input6</th>\n",
       "      <th>Input7</th>\n",
       "      <th>Input8</th>\n",
       "      <th>Input9</th>\n",
       "      <th>Input10</th>\n",
       "      <th>Input11</th>\n",
       "      <th>Input12</th>\n",
       "      <th>Input13</th>\n",
       "      <th>Input14</th>\n",
       "      <th>Input15</th>\n",
       "      <th>Input16</th>\n",
       "      <th>Target</th>\n",
       "    </tr>\n",
       "  </thead>\n",
       "  <tbody>\n",
       "    <tr>\n",
       "      <th>0</th>\n",
       "      <td>acetone</td>\n",
       "      <td>PDMS</td>\n",
       "      <td>LiClO4</td>\n",
       "      <td>12825.6</td>\n",
       "      <td>75.7</td>\n",
       "      <td>546.3</td>\n",
       "      <td>50.6</td>\n",
       "      <td>78.8</td>\n",
       "      <td>1408.9</td>\n",
       "      <td>463.1</td>\n",
       "      <td>43.6</td>\n",
       "      <td>120.3</td>\n",
       "      <td>97.8</td>\n",
       "      <td>0.8</td>\n",
       "      <td>450.0000</td>\n",
       "      <td>0</td>\n",
       "      <td>246.086636</td>\n",
       "    </tr>\n",
       "    <tr>\n",
       "      <th>1</th>\n",
       "      <td>ACN</td>\n",
       "      <td>PUR</td>\n",
       "      <td>LiI</td>\n",
       "      <td>5161.7</td>\n",
       "      <td>1365.1</td>\n",
       "      <td>397.2</td>\n",
       "      <td>39.7</td>\n",
       "      <td>152.4</td>\n",
       "      <td>423.3</td>\n",
       "      <td>751.8</td>\n",
       "      <td>56.1</td>\n",
       "      <td>944.7</td>\n",
       "      <td>90.4</td>\n",
       "      <td>0.8</td>\n",
       "      <td>138.8889</td>\n",
       "      <td>1</td>\n",
       "      <td>779.498146</td>\n",
       "    </tr>\n",
       "    <tr>\n",
       "      <th>2</th>\n",
       "      <td>DMSO</td>\n",
       "      <td>PS</td>\n",
       "      <td>LiClO6</td>\n",
       "      <td>13297.0</td>\n",
       "      <td>221.2</td>\n",
       "      <td>528.9</td>\n",
       "      <td>37.1</td>\n",
       "      <td>209.4</td>\n",
       "      <td>2737.2</td>\n",
       "      <td>829.7</td>\n",
       "      <td>58.1</td>\n",
       "      <td>2304.2</td>\n",
       "      <td>103.1</td>\n",
       "      <td>0.9</td>\n",
       "      <td>177.7778</td>\n",
       "      <td>0</td>\n",
       "      <td>5145.489427</td>\n",
       "    </tr>\n",
       "    <tr>\n",
       "      <th>3</th>\n",
       "      <td>propanol</td>\n",
       "      <td>PP</td>\n",
       "      <td>LiClO4</td>\n",
       "      <td>18131.2</td>\n",
       "      <td>1550.2</td>\n",
       "      <td>875.9</td>\n",
       "      <td>34.8</td>\n",
       "      <td>976.5</td>\n",
       "      <td>316.6</td>\n",
       "      <td>519.5</td>\n",
       "      <td>46.0</td>\n",
       "      <td>158.6</td>\n",
       "      <td>180.1</td>\n",
       "      <td>0.4</td>\n",
       "      <td>100.0000</td>\n",
       "      <td>1</td>\n",
       "      <td>6.773916</td>\n",
       "    </tr>\n",
       "    <tr>\n",
       "      <th>4</th>\n",
       "      <td>ACN</td>\n",
       "      <td>PMMA</td>\n",
       "      <td>LiClO6</td>\n",
       "      <td>19764.5</td>\n",
       "      <td>201.7</td>\n",
       "      <td>371.8</td>\n",
       "      <td>40.5</td>\n",
       "      <td>614.0</td>\n",
       "      <td>2499.8</td>\n",
       "      <td>989.7</td>\n",
       "      <td>53.9</td>\n",
       "      <td>815.9</td>\n",
       "      <td>116.1</td>\n",
       "      <td>0.9</td>\n",
       "      <td>100.0000</td>\n",
       "      <td>0</td>\n",
       "      <td>601.290165</td>\n",
       "    </tr>\n",
       "  </tbody>\n",
       "</table>\n",
       "</div>"
      ],
      "text/plain": [
       "     Input1 Input2  Input3   Input4  Input5  Input6  Input7  Input8  Input9  \\\n",
       "0   acetone   PDMS  LiClO4  12825.6    75.7   546.3    50.6    78.8  1408.9   \n",
       "1       ACN    PUR     LiI   5161.7  1365.1   397.2    39.7   152.4   423.3   \n",
       "2      DMSO     PS  LiClO6  13297.0   221.2   528.9    37.1   209.4  2737.2   \n",
       "3  propanol     PP  LiClO4  18131.2  1550.2   875.9    34.8   976.5   316.6   \n",
       "4       ACN   PMMA  LiClO6  19764.5   201.7   371.8    40.5   614.0  2499.8   \n",
       "\n",
       "   Input10  Input11  Input12  Input13  Input14   Input15  Input16       Target  \n",
       "0    463.1     43.6    120.3     97.8      0.8  450.0000        0   246.086636  \n",
       "1    751.8     56.1    944.7     90.4      0.8  138.8889        1   779.498146  \n",
       "2    829.7     58.1   2304.2    103.1      0.9  177.7778        0  5145.489427  \n",
       "3    519.5     46.0    158.6    180.1      0.4  100.0000        1     6.773916  \n",
       "4    989.7     53.9    815.9    116.1      0.9  100.0000        0   601.290165  "
      ]
     },
     "execution_count": 22,
     "metadata": {},
     "output_type": "execute_result"
    }
   ],
   "source": [
    "df.head()"
   ]
  },
  {
   "cell_type": "code",
   "execution_count": 23,
   "metadata": {},
   "outputs": [
    {
     "data": {
      "text/html": [
       "<div>\n",
       "<style scoped>\n",
       "    .dataframe tbody tr th:only-of-type {\n",
       "        vertical-align: middle;\n",
       "    }\n",
       "\n",
       "    .dataframe tbody tr th {\n",
       "        vertical-align: top;\n",
       "    }\n",
       "\n",
       "    .dataframe thead th {\n",
       "        text-align: right;\n",
       "    }\n",
       "</style>\n",
       "<table border=\"1\" class=\"dataframe\">\n",
       "  <thead>\n",
       "    <tr style=\"text-align: right;\">\n",
       "      <th></th>\n",
       "      <th>Input4</th>\n",
       "      <th>Input5</th>\n",
       "      <th>Input6</th>\n",
       "      <th>Input7</th>\n",
       "      <th>Input8</th>\n",
       "      <th>Input9</th>\n",
       "      <th>Input10</th>\n",
       "      <th>Input11</th>\n",
       "      <th>Input12</th>\n",
       "      <th>Input13</th>\n",
       "      <th>Input14</th>\n",
       "      <th>Input15</th>\n",
       "      <th>Input16</th>\n",
       "      <th>Target</th>\n",
       "    </tr>\n",
       "  </thead>\n",
       "  <tbody>\n",
       "    <tr>\n",
       "      <th>count</th>\n",
       "      <td>600.000000</td>\n",
       "      <td>600.000000</td>\n",
       "      <td>600.000000</td>\n",
       "      <td>600.000000</td>\n",
       "      <td>600.000000</td>\n",
       "      <td>600.000000</td>\n",
       "      <td>600.000000</td>\n",
       "      <td>600.000000</td>\n",
       "      <td>600.000000</td>\n",
       "      <td>600.000000</td>\n",
       "      <td>600.000000</td>\n",
       "      <td>600.000000</td>\n",
       "      <td>600.000000</td>\n",
       "      <td>600.000000</td>\n",
       "    </tr>\n",
       "    <tr>\n",
       "      <th>mean</th>\n",
       "      <td>10753.079667</td>\n",
       "      <td>1008.978500</td>\n",
       "      <td>450.380000</td>\n",
       "      <td>42.231333</td>\n",
       "      <td>522.289833</td>\n",
       "      <td>1581.572833</td>\n",
       "      <td>642.098833</td>\n",
       "      <td>49.957167</td>\n",
       "      <td>1172.423167</td>\n",
       "      <td>116.638167</td>\n",
       "      <td>0.509833</td>\n",
       "      <td>270.268519</td>\n",
       "      <td>0.483333</td>\n",
       "      <td>1179.171172</td>\n",
       "    </tr>\n",
       "    <tr>\n",
       "      <th>std</th>\n",
       "      <td>5693.583199</td>\n",
       "      <td>565.175402</td>\n",
       "      <td>254.635034</td>\n",
       "      <td>10.157400</td>\n",
       "      <td>290.950452</td>\n",
       "      <td>838.421529</td>\n",
       "      <td>205.396181</td>\n",
       "      <td>5.628414</td>\n",
       "      <td>700.645508</td>\n",
       "      <td>49.024551</td>\n",
       "      <td>0.297322</td>\n",
       "      <td>108.551663</td>\n",
       "      <td>0.500139</td>\n",
       "      <td>1427.136553</td>\n",
       "    </tr>\n",
       "    <tr>\n",
       "      <th>min</th>\n",
       "      <td>1009.300000</td>\n",
       "      <td>52.400000</td>\n",
       "      <td>1.200000</td>\n",
       "      <td>25.000000</td>\n",
       "      <td>13.000000</td>\n",
       "      <td>100.600000</td>\n",
       "      <td>301.300000</td>\n",
       "      <td>40.000000</td>\n",
       "      <td>13.300000</td>\n",
       "      <td>30.200000</td>\n",
       "      <td>0.000000</td>\n",
       "      <td>100.000000</td>\n",
       "      <td>0.000000</td>\n",
       "      <td>4.851770</td>\n",
       "    </tr>\n",
       "    <tr>\n",
       "      <th>25%</th>\n",
       "      <td>5826.425000</td>\n",
       "      <td>508.300000</td>\n",
       "      <td>224.850000</td>\n",
       "      <td>33.475000</td>\n",
       "      <td>265.625000</td>\n",
       "      <td>847.775000</td>\n",
       "      <td>454.750000</td>\n",
       "      <td>45.375000</td>\n",
       "      <td>542.550000</td>\n",
       "      <td>74.275000</td>\n",
       "      <td>0.200000</td>\n",
       "      <td>177.777800</td>\n",
       "      <td>0.000000</td>\n",
       "      <td>184.083723</td>\n",
       "    </tr>\n",
       "    <tr>\n",
       "      <th>50%</th>\n",
       "      <td>10726.050000</td>\n",
       "      <td>989.800000</td>\n",
       "      <td>457.200000</td>\n",
       "      <td>41.800000</td>\n",
       "      <td>542.400000</td>\n",
       "      <td>1641.100000</td>\n",
       "      <td>639.500000</td>\n",
       "      <td>50.100000</td>\n",
       "      <td>1158.900000</td>\n",
       "      <td>116.050000</td>\n",
       "      <td>0.500000</td>\n",
       "      <td>255.555600</td>\n",
       "      <td>0.000000</td>\n",
       "      <td>619.636993</td>\n",
       "    </tr>\n",
       "    <tr>\n",
       "      <th>75%</th>\n",
       "      <td>15758.050000</td>\n",
       "      <td>1489.450000</td>\n",
       "      <td>663.425000</td>\n",
       "      <td>50.900000</td>\n",
       "      <td>769.800000</td>\n",
       "      <td>2273.250000</td>\n",
       "      <td>819.200000</td>\n",
       "      <td>54.600000</td>\n",
       "      <td>1771.000000</td>\n",
       "      <td>159.800000</td>\n",
       "      <td>0.800000</td>\n",
       "      <td>372.222200</td>\n",
       "      <td>1.000000</td>\n",
       "      <td>1790.231535</td>\n",
       "    </tr>\n",
       "    <tr>\n",
       "      <th>max</th>\n",
       "      <td>19994.500000</td>\n",
       "      <td>1997.900000</td>\n",
       "      <td>899.800000</td>\n",
       "      <td>60.000000</td>\n",
       "      <td>999.800000</td>\n",
       "      <td>2999.700000</td>\n",
       "      <td>994.800000</td>\n",
       "      <td>59.900000</td>\n",
       "      <td>2399.600000</td>\n",
       "      <td>199.900000</td>\n",
       "      <td>1.000000</td>\n",
       "      <td>450.000000</td>\n",
       "      <td>1.000000</td>\n",
       "      <td>11607.080760</td>\n",
       "    </tr>\n",
       "  </tbody>\n",
       "</table>\n",
       "</div>"
      ],
      "text/plain": [
       "             Input4       Input5      Input6      Input7      Input8  \\\n",
       "count    600.000000   600.000000  600.000000  600.000000  600.000000   \n",
       "mean   10753.079667  1008.978500  450.380000   42.231333  522.289833   \n",
       "std     5693.583199   565.175402  254.635034   10.157400  290.950452   \n",
       "min     1009.300000    52.400000    1.200000   25.000000   13.000000   \n",
       "25%     5826.425000   508.300000  224.850000   33.475000  265.625000   \n",
       "50%    10726.050000   989.800000  457.200000   41.800000  542.400000   \n",
       "75%    15758.050000  1489.450000  663.425000   50.900000  769.800000   \n",
       "max    19994.500000  1997.900000  899.800000   60.000000  999.800000   \n",
       "\n",
       "            Input9     Input10     Input11      Input12     Input13  \\\n",
       "count   600.000000  600.000000  600.000000   600.000000  600.000000   \n",
       "mean   1581.572833  642.098833   49.957167  1172.423167  116.638167   \n",
       "std     838.421529  205.396181    5.628414   700.645508   49.024551   \n",
       "min     100.600000  301.300000   40.000000    13.300000   30.200000   \n",
       "25%     847.775000  454.750000   45.375000   542.550000   74.275000   \n",
       "50%    1641.100000  639.500000   50.100000  1158.900000  116.050000   \n",
       "75%    2273.250000  819.200000   54.600000  1771.000000  159.800000   \n",
       "max    2999.700000  994.800000   59.900000  2399.600000  199.900000   \n",
       "\n",
       "          Input14     Input15     Input16        Target  \n",
       "count  600.000000  600.000000  600.000000    600.000000  \n",
       "mean     0.509833  270.268519    0.483333   1179.171172  \n",
       "std      0.297322  108.551663    0.500139   1427.136553  \n",
       "min      0.000000  100.000000    0.000000      4.851770  \n",
       "25%      0.200000  177.777800    0.000000    184.083723  \n",
       "50%      0.500000  255.555600    0.000000    619.636993  \n",
       "75%      0.800000  372.222200    1.000000   1790.231535  \n",
       "max      1.000000  450.000000    1.000000  11607.080760  "
      ]
     },
     "execution_count": 23,
     "metadata": {},
     "output_type": "execute_result"
    }
   ],
   "source": [
    "df.describe()"
   ]
  },
  {
   "cell_type": "code",
   "execution_count": 25,
   "metadata": {},
   "outputs": [
    {
     "name": "stdout",
     "output_type": "stream",
     "text": [
      "<class 'pandas.core.frame.DataFrame'>\n",
      "RangeIndex: 600 entries, 0 to 599\n",
      "Data columns (total 17 columns):\n",
      "Input1     600 non-null object\n",
      "Input2     600 non-null object\n",
      "Input3     600 non-null object\n",
      "Input4     600 non-null float64\n",
      "Input5     600 non-null float64\n",
      "Input6     600 non-null float64\n",
      "Input7     600 non-null float64\n",
      "Input8     600 non-null float64\n",
      "Input9     600 non-null float64\n",
      "Input10    600 non-null float64\n",
      "Input11    600 non-null float64\n",
      "Input12    600 non-null float64\n",
      "Input13    600 non-null float64\n",
      "Input14    600 non-null float64\n",
      "Input15    600 non-null float64\n",
      "Input16    600 non-null int64\n",
      "Target     600 non-null float64\n",
      "dtypes: float64(13), int64(1), object(3)\n",
      "memory usage: 79.8+ KB\n"
     ]
    }
   ],
   "source": [
    "df.info()"
   ]
  },
  {
   "cell_type": "code",
   "execution_count": 26,
   "metadata": {},
   "outputs": [
    {
     "data": {
      "text/plain": [
       "array(['acetone', 'ACN', 'DMSO', 'propanol', 'chloroform', 'DMF', 'THF'],\n",
       "      dtype=object)"
      ]
     },
     "execution_count": 26,
     "metadata": {},
     "output_type": "execute_result"
    }
   ],
   "source": [
    "df.Input1.unique()"
   ]
  },
  {
   "cell_type": "code",
   "execution_count": 27,
   "metadata": {},
   "outputs": [
    {
     "data": {
      "text/plain": [
       "array(['PDMS', 'PUR', 'PS', 'PP', 'PMMA', 'Nylon', 'PEO', 'PVC'],\n",
       "      dtype=object)"
      ]
     },
     "execution_count": 27,
     "metadata": {},
     "output_type": "execute_result"
    }
   ],
   "source": [
    "df.Input2.unique()"
   ]
  },
  {
   "cell_type": "code",
   "execution_count": 28,
   "metadata": {},
   "outputs": [
    {
     "data": {
      "text/plain": [
       "array(['LiClO4', 'LiI', 'LiClO6', 'LiTFSI', 'LiCF3SO3', 'LiBF4'],\n",
       "      dtype=object)"
      ]
     },
     "execution_count": 28,
     "metadata": {},
     "output_type": "execute_result"
    }
   ],
   "source": [
    "df.Input3.unique()"
   ]
  },
  {
   "cell_type": "code",
   "execution_count": 29,
   "metadata": {},
   "outputs": [
    {
     "data": {
      "image/png": "[encoded data removed]",
      "text/plain": [
       "<Figure size 1080x720 with 16 Axes>"
      ]
     },
     "metadata": {
      "needs_background": "light"
     },
     "output_type": "display_data"
    }
   ],
   "source": [
    "df.drop([\"Target\"], axis = 1).hist(color = 'lightblue', figsize=(15,10));"
   ]
  },
  {
   "cell_type": "code",
   "execution_count": 30,
   "metadata": {},
   "outputs": [
    {
     "data": {
      "image/png": "[encoded data removed]",
      "text/plain": [
       "<Figure size 432x288 with 1 Axes>"
      ]
     },
     "metadata": {
      "needs_background": "light"
     },
     "output_type": "display_data"
    }
   ],
   "source": [
    "df.Target.hist(color = color);"
   ]
  },
  {
   "cell_type": "code",
   "execution_count": 31,
   "metadata": {},
   "outputs": [
    {
     "data": {
      "image/png": "[encoded data removed]",
      "text/plain": [
       "<Figure size 432x288 with 1 Axes>"
      ]
     },
     "metadata": {
      "needs_background": "light"
     },
     "output_type": "display_data"
    }
   ],
   "source": [
    "plt.hist(np.log(df.Target), color = color);"
   ]
  },
  {
   "cell_type": "code",
   "execution_count": 32,
   "metadata": {},
   "outputs": [
    {
     "data": {
      "text/plain": [
       "11607.08076"
      ]
     },
     "execution_count": 32,
     "metadata": {},
     "output_type": "execute_result"
    }
   ],
   "source": [
    "np.exp(np.max(np.log(df.Target)))"
   ]
  },
  {
   "cell_type": "code",
   "execution_count": 33,
   "metadata": {},
   "outputs": [],
   "source": [
    "corr = df.corr()"
   ]
  },
  {
   "cell_type": "code",
   "execution_count": 34,
   "metadata": {},
   "outputs": [
    {
     "data": {
      "image/png": "[encoded data removed]",
      "text/plain": [
       "<Figure size 720x720 with 2 Axes>"
      ]
     },
     "metadata": {
      "needs_background": "light"
     },
     "output_type": "display_data"
    }
   ],
   "source": [
    "plt.figure(figsize = (10,10))\n",
    "sn.heatmap(corr);"
   ]
  },
  {
   "cell_type": "code",
   "execution_count": 35,
   "metadata": {},
   "outputs": [],
   "source": [
    "df_dummied = pd.get_dummies(df, columns=['Input1', 'Input2', 'Input3'])"
   ]
  },
  {
   "cell_type": "code",
   "execution_count": 36,
   "metadata": {},
   "outputs": [],
   "source": [
    "scaler = MinMaxScaler()"
   ]
  },
  {
   "cell_type": "code",
   "execution_count": 38,
   "metadata": {},
   "outputs": [],
   "source": [
    "all_columns = df_dummied.columns.values"
   ]
  },
  {
   "cell_type": "code",
   "execution_count": 40,
   "metadata": {},
   "outputs": [
    {
     "name": "stderr",
     "output_type": "stream",
     "text": [
      "/Users/ericcriteser/anaconda2/envs/deeplearning/lib/python2.7/site-packages/sklearn/preprocessing/data.py:334: DataConversionWarning: Data with input dtype uint8, int64, float64 were all converted to float64 by MinMaxScaler.\n",
      "  return self.partial_fit(X, y)\n"
     ]
    }
   ],
   "source": [
    "df_dummied[all_columns] = scaler.fit_transform(df_dummied[all_columns])"
   ]
  },
  {
   "cell_type": "code",
   "execution_count": 41,
   "metadata": {},
   "outputs": [],
   "source": [
    "df_dummied_scaled = df_dummied.copy()"
   ]
  },
  {
   "cell_type": "code",
   "execution_count": 21,
   "metadata": {},
   "outputs": [],
   "source": [
    "df_dummied_scaled.to_csv('scaled_dummied_task.csv', index = False)"
   ]
  },
  {
   "cell_type": "code",
   "execution_count": 71,
   "metadata": {},
   "outputs": [],
   "source": [
    "permutations_df = get_permutations(df, 50)"
   ]
  },
  {
   "cell_type": "code",
   "execution_count": 69,
   "metadata": {},
   "outputs": [],
   "source": [
    "permutations_df.to_csv('permutations.csv', index = False)"
   ]
  }
 ],
 "metadata": {
  "kernelspec": {
   "display_name": "Python 2",
   "language": "python",
   "name": "python2"
  },
  "language_info": {
   "codemirror_mode": {
    "name": "ipython",
    "version": 2
   },
   "file_extension": ".py",
   "mimetype": "text/x-python",
   "name": "python",
   "nbconvert_exporter": "python",
   "pygments_lexer": "ipython2",
   "version": "2.7.17"
  }
 },
 "nbformat": 4,
 "nbformat_minor": 2
}
