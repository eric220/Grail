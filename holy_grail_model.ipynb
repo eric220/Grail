{
 "cells": [
  {
   "cell_type": "code",
   "execution_count": 1,
   "metadata": {},
   "outputs": [],
   "source": [
    "import matplotlib.pyplot as plt\n",
    "import seaborn as sn\n",
    "from sklearn.preprocessing import MinMaxScaler\n",
    "import pandas as pd\n",
    "import numpy as np\n",
    "import tensorflow as tf\n",
    "tfk = tf.keras\n",
    "tf.keras.backend.set_floatx(\"float64\")\n",
    "import tensorflow_probability as tfp\n",
    "tfd = tfp.distributions\n",
    "from sklearn.preprocessing import StandardScaler\n",
    "from sklearn.ensemble import IsolationForest\n",
    "%matplotlib inline"
   ]
  },
  {
   "cell_type": "code",
   "execution_count": 6,
   "metadata": {},
   "outputs": [
    {
     "data": {
      "text/html": [
       "<div>\n",
       "<style scoped>\n",
       "    .dataframe tbody tr th:only-of-type {\n",
       "        vertical-align: middle;\n",
       "    }\n",
       "\n",
       "    .dataframe tbody tr th {\n",
       "        vertical-align: top;\n",
       "    }\n",
       "\n",
       "    .dataframe thead th {\n",
       "        text-align: right;\n",
       "    }\n",
       "</style>\n",
       "<table border=\"1\" class=\"dataframe\">\n",
       "  <thead>\n",
       "    <tr style=\"text-align: right;\">\n",
       "      <th></th>\n",
       "      <th>Input4</th>\n",
       "      <th>Input5</th>\n",
       "      <th>Input6</th>\n",
       "      <th>Input7</th>\n",
       "      <th>Input8</th>\n",
       "      <th>Input9</th>\n",
       "      <th>Input10</th>\n",
       "      <th>Input11</th>\n",
       "      <th>Input12</th>\n",
       "      <th>Input13</th>\n",
       "      <th>...</th>\n",
       "      <th>Input2_PP</th>\n",
       "      <th>Input2_PS</th>\n",
       "      <th>Input2_PUR</th>\n",
       "      <th>Input2_PVC</th>\n",
       "      <th>Input3_LiBF4</th>\n",
       "      <th>Input3_LiCF3SO3</th>\n",
       "      <th>Input3_LiClO4</th>\n",
       "      <th>Input3_LiClO6</th>\n",
       "      <th>Input3_LiI</th>\n",
       "      <th>Input3_LiTFSI</th>\n",
       "    </tr>\n",
       "  </thead>\n",
       "  <tbody>\n",
       "    <tr>\n",
       "      <th>0</th>\n",
       "      <td>0.622395</td>\n",
       "      <td>0.011976</td>\n",
       "      <td>0.606610</td>\n",
       "      <td>0.731429</td>\n",
       "      <td>0.066680</td>\n",
       "      <td>0.451278</td>\n",
       "      <td>0.233309</td>\n",
       "      <td>0.180905</td>\n",
       "      <td>0.044839</td>\n",
       "      <td>0.398350</td>\n",
       "      <td>...</td>\n",
       "      <td>0.0</td>\n",
       "      <td>0.0</td>\n",
       "      <td>0.0</td>\n",
       "      <td>0.0</td>\n",
       "      <td>0.0</td>\n",
       "      <td>0.0</td>\n",
       "      <td>1.0</td>\n",
       "      <td>0.0</td>\n",
       "      <td>0.0</td>\n",
       "      <td>0.0</td>\n",
       "    </tr>\n",
       "    <tr>\n",
       "      <th>1</th>\n",
       "      <td>0.218718</td>\n",
       "      <td>0.674737</td>\n",
       "      <td>0.440686</td>\n",
       "      <td>0.420000</td>\n",
       "      <td>0.141265</td>\n",
       "      <td>0.111310</td>\n",
       "      <td>0.649603</td>\n",
       "      <td>0.809045</td>\n",
       "      <td>0.390311</td>\n",
       "      <td>0.354744</td>\n",
       "      <td>...</td>\n",
       "      <td>0.0</td>\n",
       "      <td>0.0</td>\n",
       "      <td>1.0</td>\n",
       "      <td>0.0</td>\n",
       "      <td>0.0</td>\n",
       "      <td>0.0</td>\n",
       "      <td>0.0</td>\n",
       "      <td>0.0</td>\n",
       "      <td>1.0</td>\n",
       "      <td>0.0</td>\n",
       "    </tr>\n",
       "    <tr>\n",
       "      <th>2</th>\n",
       "      <td>0.647225</td>\n",
       "      <td>0.086764</td>\n",
       "      <td>0.587247</td>\n",
       "      <td>0.345714</td>\n",
       "      <td>0.199027</td>\n",
       "      <td>0.909455</td>\n",
       "      <td>0.761932</td>\n",
       "      <td>0.909548</td>\n",
       "      <td>0.960022</td>\n",
       "      <td>0.429582</td>\n",
       "      <td>...</td>\n",
       "      <td>0.0</td>\n",
       "      <td>1.0</td>\n",
       "      <td>0.0</td>\n",
       "      <td>0.0</td>\n",
       "      <td>0.0</td>\n",
       "      <td>0.0</td>\n",
       "      <td>0.0</td>\n",
       "      <td>1.0</td>\n",
       "      <td>0.0</td>\n",
       "      <td>0.0</td>\n",
       "    </tr>\n",
       "    <tr>\n",
       "      <th>3</th>\n",
       "      <td>0.901855</td>\n",
       "      <td>0.769879</td>\n",
       "      <td>0.973403</td>\n",
       "      <td>0.280000</td>\n",
       "      <td>0.976388</td>\n",
       "      <td>0.074506</td>\n",
       "      <td>0.314636</td>\n",
       "      <td>0.301508</td>\n",
       "      <td>0.060889</td>\n",
       "      <td>0.883324</td>\n",
       "      <td>...</td>\n",
       "      <td>1.0</td>\n",
       "      <td>0.0</td>\n",
       "      <td>0.0</td>\n",
       "      <td>0.0</td>\n",
       "      <td>0.0</td>\n",
       "      <td>0.0</td>\n",
       "      <td>1.0</td>\n",
       "      <td>0.0</td>\n",
       "      <td>0.0</td>\n",
       "      <td>0.0</td>\n",
       "    </tr>\n",
       "    <tr>\n",
       "      <th>4</th>\n",
       "      <td>0.987885</td>\n",
       "      <td>0.076741</td>\n",
       "      <td>0.412419</td>\n",
       "      <td>0.442857</td>\n",
       "      <td>0.609039</td>\n",
       "      <td>0.827567</td>\n",
       "      <td>0.992646</td>\n",
       "      <td>0.698492</td>\n",
       "      <td>0.336337</td>\n",
       "      <td>0.506187</td>\n",
       "      <td>...</td>\n",
       "      <td>0.0</td>\n",
       "      <td>0.0</td>\n",
       "      <td>0.0</td>\n",
       "      <td>0.0</td>\n",
       "      <td>0.0</td>\n",
       "      <td>0.0</td>\n",
       "      <td>0.0</td>\n",
       "      <td>1.0</td>\n",
       "      <td>0.0</td>\n",
       "      <td>0.0</td>\n",
       "    </tr>\n",
       "  </tbody>\n",
       "</table>\n",
       "<p>5 rows × 35 columns</p>\n",
       "</div>"
      ],
      "text/plain": [
       "     Input4    Input5    Input6    Input7    Input8    Input9   Input10  \\\n",
       "0  0.622395  0.011976  0.606610  0.731429  0.066680  0.451278  0.233309   \n",
       "1  0.218718  0.674737  0.440686  0.420000  0.141265  0.111310  0.649603   \n",
       "2  0.647225  0.086764  0.587247  0.345714  0.199027  0.909455  0.761932   \n",
       "3  0.901855  0.769879  0.973403  0.280000  0.976388  0.074506  0.314636   \n",
       "4  0.987885  0.076741  0.412419  0.442857  0.609039  0.827567  0.992646   \n",
       "\n",
       "    Input11   Input12   Input13  ...  Input2_PP  Input2_PS  Input2_PUR  \\\n",
       "0  0.180905  0.044839  0.398350  ...        0.0        0.0         0.0   \n",
       "1  0.809045  0.390311  0.354744  ...        0.0        0.0         1.0   \n",
       "2  0.909548  0.960022  0.429582  ...        0.0        1.0         0.0   \n",
       "3  0.301508  0.060889  0.883324  ...        1.0        0.0         0.0   \n",
       "4  0.698492  0.336337  0.506187  ...        0.0        0.0         0.0   \n",
       "\n",
       "   Input2_PVC  Input3_LiBF4  Input3_LiCF3SO3  Input3_LiClO4  Input3_LiClO6  \\\n",
       "0         0.0           0.0              0.0            1.0            0.0   \n",
       "1         0.0           0.0              0.0            0.0            0.0   \n",
       "2         0.0           0.0              0.0            0.0            1.0   \n",
       "3         0.0           0.0              0.0            1.0            0.0   \n",
       "4         0.0           0.0              0.0            0.0            1.0   \n",
       "\n",
       "   Input3_LiI  Input3_LiTFSI  \n",
       "0         0.0            0.0  \n",
       "1         1.0            0.0  \n",
       "2         0.0            0.0  \n",
       "3         0.0            0.0  \n",
       "4         0.0            0.0  \n",
       "\n",
       "[5 rows x 35 columns]"
      ]
     },
     "execution_count": 6,
     "metadata": {},
     "output_type": "execute_result"
    }
   ],
   "source": [
    "df = pd.read_csv('scaled_dummied_task.csv')\n",
    "df.head()"
   ]
  },
  {
   "cell_type": "code",
   "execution_count": 7,
   "metadata": {},
   "outputs": [
    {
     "data": {
      "text/plain": [
       "array(['Input4', 'Input5', 'Input6', 'Input7', 'Input8', 'Input9',\n",
       "       'Input10', 'Input11', 'Input12', 'Input13', 'Input14', 'Input15',\n",
       "       'Input16', 'Target', 'Input1_ACN', 'Input1_DMF', 'Input1_DMSO',\n",
       "       'Input1_THF', 'Input1_acetone', 'Input1_chloroform',\n",
       "       'Input1_propanol', 'Input2_Nylon', 'Input2_PDMS', 'Input2_PEO',\n",
       "       'Input2_PMMA', 'Input2_PP', 'Input2_PS', 'Input2_PUR',\n",
       "       'Input2_PVC', 'Input3_LiBF4', 'Input3_LiCF3SO3', 'Input3_LiClO4',\n",
       "       'Input3_LiClO6', 'Input3_LiI', 'Input3_LiTFSI'], dtype=object)"
      ]
     },
     "execution_count": 7,
     "metadata": {},
     "output_type": "execute_result"
    }
   ],
   "source": [
    "df.columns.values"
   ]
  },
  {
   "cell_type": "code",
   "execution_count": 22,
   "metadata": {},
   "outputs": [
    {
     "data": {
      "text/plain": [
       "35"
      ]
     },
     "execution_count": 22,
     "metadata": {},
     "output_type": "execute_result"
    }
   ],
   "source": [
    "len(df.columns)"
   ]
  },
  {
   "cell_type": "code",
   "execution_count": 19,
   "metadata": {},
   "outputs": [],
   "source": [
    "neg_log_likelihood = lambda x, rv_x: -rv_x.log_prob(x)"
   ]
  },
  {
   "cell_type": "code",
   "execution_count": 13,
   "metadata": {},
   "outputs": [],
   "source": [
    "#Modeled after bnn by Georgi Tancev\n",
    "#hyperparameters\n",
    "n_epochs = 50\n",
    "n_samples = df.shape[0]\n",
    "n_batches = 10\n",
    "batch_size = np.floor(n_samples/n_batches)\n",
    "buffer_size = n_samples\n",
    "\n",
    "n_train = int(0.9*df.shape[0])\n",
    "data = tf.data.Dataset.from_tensor_slices((df.drop('Target', axis = 1).values, df['Target'].values))\n",
    "data = data.shuffle(n_samples, reshuffle_each_iteration=True)\n",
    "data_train = data.take(n_train).batch(batch_size).repeat(n_epochs)\n",
    "data_test = data.skip(n_train).batch(1).repeat(n_epochs)"
   ]
  },
  {
   "cell_type": "code",
   "execution_count": 25,
   "metadata": {},
   "outputs": [
    {
     "data": {
      "text/plain": [
       "34"
      ]
     },
     "execution_count": 25,
     "metadata": {},
     "output_type": "execute_result"
    }
   ],
   "source": [
    "input_shape = len(df.columns) - 1"
   ]
  },
  {
   "cell_type": "code",
   "execution_count": 27,
   "metadata": {},
   "outputs": [
    {
     "name": "stdout",
     "output_type": "stream",
     "text": [
      "Model: \"model\"\n",
      "_________________________________________________________________\n",
      "Layer (type)                 Output Shape              Param #   \n",
      "=================================================================\n",
      "dense_1 (Dense)              (None, 10)                350       \n",
      "_________________________________________________________________\n",
      "distribution_weights (Dense) (None, 180900)            1989900   \n",
      "_________________________________________________________________\n",
      "output (MultivariateNormalTr ((None, 600), (None, 600) 0         \n",
      "=================================================================\n",
      "Total params: 1,990,250\n",
      "Trainable params: 1,990,250\n",
      "Non-trainable params: 0\n",
      "_________________________________________________________________\n"
     ]
    }
   ],
   "source": [
    "prior = tfd.Independent(tfd.Normal(loc=tf.zeros(len(df.Target), dtype=tf.float64), scale=1.0),\n",
    "                        reinterpreted_batch_ndims=1)\n",
    "model = tfk.Sequential([\n",
    "tfk.layers.InputLayer(input_shape= input_shape, name=\"input\"),\n",
    "tfk.layers.Dense(10, activation=\"relu\", name=\"dense_1\"),\n",
    "tfk.layers.Dense(tfp.layers.MultivariateNormalTriL.params_size(\n",
    "len(df.Target)), activation=None, name=\"distribution_weights\"),\n",
    "tfp.layers.MultivariateNormalTriL(len(df.Target),\n",
    "                                  activity_regularizer=tfp.layers.KLDivergenceRegularizer(prior, weight=1/n_batches),\n",
    "                                  name=\"output\")], name=\"model\")\n",
    "model.compile(optimizer=\"adam\", loss=neg_log_likelihood)\n",
    "model.fit(data_train, epochs=n_epochs, validation_data=data_test, verbose=False)\n",
    "model.summary()"
   ]
  },
  {
   "cell_type": "code",
   "execution_count": 29,
   "metadata": {},
   "outputs": [],
   "source": [
    "samples = 25\n",
    "iterations = 10\n",
    "test_iterator = tf.compat.v1.data.make_one_shot_iterator(data_test)\n",
    "X_true, Y_true, Y_pred = np.empty(shape=(samples, input_shape)), np.empty(shape=(samples, len(df.Target))), np.empty(shape=(samples, len(df.Target), iterations))\n",
    "for i in range(samples):\n",
    "    features, labels = test_iterator.get_next()\n",
    "    X_true[i,:] = features\n",
    "    Y_true[i,:] = labels.numpy()\n",
    "    for k in range(iterations):\n",
    "        Y_pred[i,:,k] = model.predict(features)\n",
    "        \n",
    "# Calculate mean and standard deviation.\n",
    "Y_pred_m = np.mean(Y_pred, axis=-1)\n",
    "Y_pred_s = np.std(Y_pred, axis=-1)"
   ]
  },
  {
   "cell_type": "code",
   "execution_count": 47,
   "metadata": {},
   "outputs": [
    {
     "data": {
      "image/png": "[encoded data removed]",
      "text/plain": [
       "<Figure size 432x288 with 1 Axes>"
      ]
     },
     "metadata": {
      "needs_background": "light"
     },
     "output_type": "display_data"
    }
   ],
   "source": [
    "plt.hist(Y_pred_s[4], color = 'lightblue');"
   ]
  },
  {
   "cell_type": "code",
   "execution_count": 46,
   "metadata": {},
   "outputs": [
    {
     "data": {
      "image/png": "[encoded data removed]",
      "text/plain": [
       "<Figure size 432x288 with 1 Axes>"
      ]
     },
     "metadata": {
      "needs_background": "light"
     },
     "output_type": "display_data"
    }
   ],
   "source": [
    "plt.hist(Y_pred_m[4], color = 'lightblue', bins = 25);"
   ]
  },
  {
   "cell_type": "code",
   "execution_count": null,
   "metadata": {},
   "outputs": [],
   "source": []
  }
 ],
 "metadata": {
  "kernelspec": {
   "display_name": "Python 2",
   "language": "python",
   "name": "python2"
  },
  "language_info": {
   "codemirror_mode": {
    "name": "ipython",
    "version": 2
   },
   "file_extension": ".py",
   "mimetype": "text/x-python",
   "name": "python",
   "nbconvert_exporter": "python",
   "pygments_lexer": "ipython2",
   "version": "2.7.17"
  }
 },
 "nbformat": 4,
 "nbformat_minor": 2
}
